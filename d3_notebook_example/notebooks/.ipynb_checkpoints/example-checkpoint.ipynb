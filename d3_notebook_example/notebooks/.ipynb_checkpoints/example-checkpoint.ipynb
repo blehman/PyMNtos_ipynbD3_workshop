{
 "cells": [
  {
   "cell_type": "markdown",
   "metadata": {},
   "source": [
    "## Data Science Work Flow\n",
    "\n",
    "Python -> R? -> D3"
   ]
  },
  {
   "cell_type": "code",
   "execution_count": null,
   "metadata": {
    "collapsed": false
   },
   "outputs": [],
   "source": [
    "# import the d3_module\n",
    "import d3_example\n",
    "\n",
    "# typical imports\n",
    "# import requirments \n",
    "from IPython.display import Image\n",
    "from IPython.display import display\n",
    "from datetime import *\n",
    "import json\n",
    "from copy import *\n",
    "from pprint import *\n",
    "import pandas as pd\n",
    "import numpy as np\n",
    "import matplotlib.pyplot as plt\n",
    "import json\n",
    "import rpy2\n",
    "%load_ext rpy2.ipython\n",
    "%R require(\"ggplot2\")\n",
    "%matplotlib inline\n",
    "from ggplot import *\n",
    "randn = np.random.randn\n",
    "from copy import *\n",
    "\n"
   ]
  },
  {
   "cell_type": "markdown",
   "metadata": {},
   "source": [
    "### Pandas\n",
    "\n",
    "Quick use cases with Pandas:\n",
    "\n",
    "- Cleaning data\n",
    "- View vs Copy \n",
    "- Datetime conversion\n",
    "- Datetime Binning"
   ]
  },
  {
   "cell_type": "markdown",
   "metadata": {},
   "source": [
    "#### Cleaning data\n",
    "Common tools that I use:\n",
    "- Try using [DataFrame.dropna()](http://stackoverflow.com/questions/13413590/how-to-drop-rows-of-pandas-dataframe-whose-value-of-certain-column-is-nan#answer-13434501) to remove null values.\n",
    "- The [pd.io.parsers.read_csv()](http://pandas.pydata.org/pandas-docs/dev/generated/pandas.io.parsers.read_csv.html) module has a `names` argument that allows you to pass a specific column header, `skiprows` argument that can take an index or number of rows, and a `parse_dates` attribute that can make string to date conversions simple."
   ]
  },
  {
   "cell_type": "code",
   "execution_count": null,
   "metadata": {
    "collapsed": false
   },
   "outputs": [],
   "source": [
    "sampleData = pd.io.parsers.read_csv(\n",
    "    \"../data/sampleData.csv\",\n",
    "    header=0\n",
    "    #names=['timeStamp1','ts','counts']\n",
    "    #,parse_dates=[0]\n",
    "    )\n",
    "sampleData = sampleData.dropna(subset=['timeStamp'])\n",
    "display(sampleData.head())\n"
   ]
  },
  {
   "cell_type": "markdown",
   "metadata": {},
   "source": [
    "####View vs Copy\n",
    "An easy frustration with a [simple solution](http://pandas.pydata.org/pandas-docs/stable/indexing.html#indexing-view-versus-copy).\n",
    "\n",
    "The first example returns a __copy__ of `sampleData`. The original value remains unchanged."
   ]
  },
  {
   "cell_type": "code",
   "execution_count": null,
   "metadata": {
    "collapsed": false
   },
   "outputs": [],
   "source": [
    "sampleData.iloc[0]['healthy_index'] = 5555\n",
    "sampleData.iloc[0]['timeStamp'] = \"1/1/12 5:55\"\n",
    "sampleData.head()"
   ]
  },
  {
   "cell_type": "markdown",
   "metadata": {},
   "source": [
    "The next example returns a __view__ of `sampleData`. The original value is changed."
   ]
  },
  {
   "cell_type": "code",
   "execution_count": null,
   "metadata": {
    "collapsed": false
   },
   "outputs": [],
   "source": [
    "sampleData.ix[0,'healthy_index'] =5555\n",
    "sampleData.ix[0,'timeStamp'] = \"1/1/12 5:55\"\n",
    "sampleData.head()"
   ]
  },
  {
   "cell_type": "markdown",
   "metadata": {},
   "source": [
    "####Datetime Conversion\n",
    "When `parse_dates` is not an option, we can apply a transformation using `strptime`, which can handle non-zero padded values."
   ]
  },
  {
   "cell_type": "code",
   "execution_count": null,
   "metadata": {
    "collapsed": false
   },
   "outputs": [],
   "source": [
    "sampleData = pd.io.parsers.read_csv(\n",
    "    \"../data/sampleData.csv\",\n",
    "    header=0\n",
    "    #names=['timeStamp1','ts','counts']\n",
    "    #,parse_dates=[0]\n",
    "    )\n",
    "sampleData = sampleData.dropna(subset=['timeStamp'])\n",
    "\n",
    "sampleData.timeStamp = pd.to_datetime(\n",
    "    sampleData['timeStamp'].apply(lambda x: \n",
    "        datetime.strptime(x,\"%m/%d/%y %H:%M\")),format = \"%m/%d/%y %H:%M\")\n",
    "\n",
    "sampleData.head()"
   ]
  },
  {
   "cell_type": "markdown",
   "metadata": {},
   "source": [
    "####Datetime Binning\n",
    "The datetime object has properties that make binning rather simple."
   ]
  },
  {
   "cell_type": "code",
   "execution_count": null,
   "metadata": {
    "collapsed": false
   },
   "outputs": [],
   "source": [
    "donut = sampleData.ix[:,(\"timeStamp\",\"donut\")]\n",
    "display(donut.head())"
   ]
  },
  {
   "cell_type": "markdown",
   "metadata": {},
   "source": [
    "Find selections from the datetime object to create new columns."
   ]
  },
  {
   "cell_type": "code",
   "execution_count": null,
   "metadata": {
    "collapsed": false
   },
   "outputs": [],
   "source": [
    "donut['Year'] = donut.timeStamp.dt.year\n",
    "donut['Month'] = donut.timeStamp.dt.month\n",
    "display(donut.head())\n",
    "#display(sampleData.timeStamp.max())\n"
   ]
  },
  {
   "cell_type": "markdown",
   "metadata": {},
   "source": [
    "####The `groupby` Method\n",
    "The `groupby` method defaults to using groups as an index."
   ]
  },
  {
   "cell_type": "code",
   "execution_count": null,
   "metadata": {
    "collapsed": false
   },
   "outputs": [],
   "source": [
    "#donut_groupby_yearmonth = donut.groupby(['Year','Month'],as_index = False)\n",
    "donut_groupby_yearmonth = donut.groupby(['Year','Month'])\n",
    "\n",
    "display(donut_groupby_yearmonth.head(n=1))\n",
    "print\n",
    "print \n",
    "#display(donut_groupby_yearmonth1.head(n=1))\n",
    "\n",
    "display(sampleData.timeStamp.max())"
   ]
  },
  {
   "cell_type": "markdown",
   "metadata": {},
   "source": [
    "####Operations on Groups (Maybe help a brother here?)\n",
    "Methods for acessing groups seems to depend on the operation applied to the groups:\n",
    "-  dataframe w/ .indices requires: dataFrame.get_group((<group>))\n",
    "-  dataframe w/ .index requires: dataFrame.get_value((<group>))\n"
   ]
  },
  {
   "cell_type": "code",
   "execution_count": null,
   "metadata": {
    "collapsed": false
   },
   "outputs": [],
   "source": [
    "# The result of the DataFrame.indices method is just a dictionary\n",
    "display(type(donut_groupby_yearmonth.indices))\n",
    "display(donut_groupby_yearmonth.indices.keys()[0:5])\n",
    "#display(donut_groupby_yearmonth.index #Error\n",
    "print\n",
    "print\n",
    "display(donut_groupby_yearmonth.get_group((2014, 1)).head(n=5))\n",
    "print\n",
    "print \n",
    "donutTest = donut_groupby_yearmonth.get_group((2014, 1)).groupby(['Year','Month']).sum()\n",
    "display(donutTest)\n",
    "print \n",
    "print \n",
    "#display(test.indices) #Error\n",
    "display(donutTest.index)\n",
    "display(donutTest.donut.get_values())\n",
    "display(donutTest.donut.get_value((2014,1)))"
   ]
  },
  {
   "cell_type": "markdown",
   "metadata": {},
   "source": [
    "####Plotting w/ Pandas\n",
    "The magic of the `DataFrame.plot()` method requires reading documentation where few examples exist (next up, stackoverflow), but somtimes it's just fun to see what DataFrame.plot() can provide without any additional arguments. "
   ]
  },
  {
   "cell_type": "code",
   "execution_count": null,
   "metadata": {
    "collapsed": false
   },
   "outputs": [],
   "source": [
    "display(sampleData.plot())"
   ]
  },
  {
   "cell_type": "markdown",
   "metadata": {},
   "source": [
    "Focus the story."
   ]
  },
  {
   "cell_type": "code",
   "execution_count": null,
   "metadata": {
    "collapsed": false
   },
   "outputs": [],
   "source": [
    "paleo = sampleData.plot(\n",
    "    x='timeStamp'\n",
    "    ,y='paleo'\n",
    "    ,kind='line'\n",
    "    ,xlim=['2011-11-15 00:00:00','2015-06-01 00:00:00']\n",
    "    ,color='b')\n",
    "paleo.legend(['paleo'], loc='best')\n",
    "kale = sampleData.plot(\n",
    "    x='timeStamp'\n",
    "    ,y='kale'\n",
    "    ,kind='line'\n",
    "    ,xlim=['2011-11-15 00:00:00','2015-06-01 00:00:00']\n",
    "    ,color='g')\n",
    "kale.legend(['kale'], loc='best')\n",
    "dairy = sampleData.plot(\n",
    "    x='timeStamp'\n",
    "    ,y='dairy'\n",
    "    ,kind='line'\n",
    "    ,xlim=['2011-11-15 00:00:00','2015-06-01 00:00:00']\n",
    "    ,color='r')\n",
    "dairy.legend(['dairy'], loc='best')\n",
    "plt.show()"
   ]
  },
  {
   "cell_type": "markdown",
   "metadata": {},
   "source": [
    "Narrow the focus."
   ]
  },
  {
   "cell_type": "code",
   "execution_count": null,
   "metadata": {
    "collapsed": false
   },
   "outputs": [],
   "source": [
    "paleo = sampleData.plot(\n",
    "    x='timeStamp'\n",
    "    ,y='paleo'\n",
    "    ,kind='line'\n",
    "    ,xlim=['2011-11-15 00:00:00','2015-06-01 00:00:00'])\n",
    "paleo.legend(['paleo'], loc='best')\n",
    "kale = sampleData.plot(\n",
    "    x='timeStamp'\n",
    "    ,y='kale'\n",
    "    ,kind='line'\n",
    "    ,xlim=['2011-11-15 00:00:00','2015-06-01 00:00:00']\n",
    "    ,ax = paleo)\n",
    "kale.legend(['paleo','kale'], loc='best')\n",
    "dairy = sampleData.plot(\n",
    "    x='timeStamp'\n",
    "    ,y='dairy'\n",
    "    ,kind='line'\n",
    "    ,xlim = ['2014-11-15 00:00:00','2015-06-01 00:00:00']\n",
    "    ,ylim = [0,20000]\n",
    "    ,ax=kale\n",
    "    ,figsize =(15,8))\n",
    "dairy.legend(['paleo','kale','dairy'], loc='best')\n",
    "dairy.set_xlabel(\"Time\")\n",
    "dairy.set_ylabel(\"Mention Count\")\n",
    "plt.show()"
   ]
  },
  {
   "cell_type": "markdown",
   "metadata": {},
   "source": [
    "####Similar experiences for R\n",
    "Familiarity with a language is important to consider when running on deadlines. There's always a tradeoff between learning the new tool and using what you know."
   ]
  },
  {
   "cell_type": "code",
   "execution_count": null,
   "metadata": {
    "collapsed": false
   },
   "outputs": [],
   "source": [
    "# find min date\n",
    "minDate = sampleData['timeStamp'].min()\n",
    "minDate = minDate.strftime('%Y-%m-%d %H:%M')\n",
    "\n",
    "# find max date\n",
    "maxDate = sampleData['timeStamp'].max()\n",
    "maxDate = maxDate.strftime('%Y-%m-%d %H:%M')\n",
    "\n",
    "display(minDate, maxDate)\n",
    "# send dataframe and strings to R\n",
    "%Rpush sampleData minDate maxDate\n"
   ]
  },
  {
   "cell_type": "code",
   "execution_count": null,
   "metadata": {
    "collapsed": false
   },
   "outputs": [],
   "source": [
    "%%R\n",
    "# convert to date object in R\n",
    "minDate = as.POSIXct(strptime(minDate, '%Y-%m-%d %H:%M',tz='UTC'))\n",
    "maxDate = as.POSIXct(strptime(maxDate, '%Y-%m-%d %H:%M',tz='UTC'))\n",
    "xlim = list(as.POSIXct('2014-11-15 00:00:00',format='%Y-%m-%d %H:%M',tz='UTC')\n",
    "         ,as.POSIXct('2015-06-01 00:00:00',format='%Y-%m-%d %H:%M',tz='UTC'))\n",
    "class(c(maxDate,xlim[[1]]))"
   ]
  },
  {
   "cell_type": "markdown",
   "metadata": {},
   "source": [
    "####Plotting w/ R\n",
    "I am more familiar with the ggplot library than I am with matplotlib/Pandas. \n"
   ]
  },
  {
   "cell_type": "code",
   "execution_count": null,
   "metadata": {
    "collapsed": false
   },
   "outputs": [],
   "source": [
    "%%R -w 900 -h 480 -u px\n",
    "\n",
    "ggplot(data=sampleData)+geom_line(aes(x=timeStamp,y=paleo),color='blue')+geom_line(aes(x=timeStamp,y=kale),color='green')+geom_line(aes(x=timeStamp,y=gluten),color='red')+scale_x_datetime(limits=c(xlim[[1]],xlim[[2]]))+xlab('Time')+ylab('Mentions Count')"
   ]
  },
  {
   "cell_type": "markdown",
   "metadata": {},
   "source": [
    "\n",
    "####Legend via Melt; Spice via Theme"
   ]
  },
  {
   "cell_type": "code",
   "execution_count": null,
   "metadata": {
    "collapsed": false
   },
   "outputs": [],
   "source": [
    "df = sampleData.ix[:,('timeStamp','paleo','kale','dairy')]\n",
    "display(df.head())\n",
    "dfMelt = pd.melt(df, id_vars=['timeStamp'])\n",
    "dfMelt.head()\n",
    "%Rpush dfMelt"
   ]
  },
  {
   "cell_type": "code",
   "execution_count": null,
   "metadata": {
    "collapsed": false
   },
   "outputs": [],
   "source": [
    "%%R -w 900 -h 480 -u px\n",
    "p1 = ggplot(data=dfMelt)\n",
    "p1 = p1 + geom_line(aes(x=timeStamp,y=value,color=variable))\n",
    "p1 = p1 + scale_x_datetime( limits = c(xlim[[1]],xlim[[2]]), labels=date_format(\"%b %Y\"))\n",
    "p1 = p1 + ylim(0,20000)+xlab('Time')+ylab('Mentions Count')\n",
    "p1 = p1 + scale_color_manual(values=c('red','green','blue'))\n",
    "p1 = p1 + theme(legend.title=element_blank(), axis.text.x = element_text(angle = 30, hjust = 1), legend.position = c(.9, .8))\n",
    "print(p1)"
   ]
  },
  {
   "cell_type": "code",
   "execution_count": null,
   "metadata": {
    "collapsed": false
   },
   "outputs": [],
   "source": [
    "%%R\n",
    "#save data\n",
    "write.csv(df,\"../data/df.csv\", row.names=FALSE)\n",
    "write.csv(dfMelt, \"../data/dfMelt.csv\", row.names=FALSE)"
   ]
  },
  {
   "cell_type": "code",
   "execution_count": null,
   "metadata": {
    "collapsed": true
   },
   "outputs": [],
   "source": []
  },
  {
   "cell_type": "code",
   "execution_count": null,
   "metadata": {
    "collapsed": false
   },
   "outputs": [],
   "source": [
    "%%R -w 900 -h 480 -u px\n",
    "#line graph in R\n",
    "\n",
    "summary(sampleData)\n",
    "p1 <- ggplot(data=sampleData) + geom_line(stat=\"identity\",aes(x=timeStamp,y=paleo)) + ggtitle(\"Line Graph Test\") + xlab(\"Time\") + ylab(\"Mention Counts\") + theme(legend.position=\"none\", text = element_text(size=20))  \n",
    "\n",
    "lower <- with(Day_subset,as.POSIXct(strftime(min(time),\"%Y-%m-%d\")))\n",
    "upper <- with(Day_subset,as.POSIXct(strftime(as.Date(max(time))+1,\"%Y-%m-%d\"))-1)\n",
    "limits = c(lower,upper)\n",
    "\n",
    "print(ggplot( data=Day_subset, aes( x=time, y=observation) ) + \n",
    "        geom_point() +\n",
    "        scale_x_datetime( breaks=(\"2 hour\"), \n",
    "                          minor_breaks=(\"1 hour\"), \n",
    "                          labels=date_format(\"%H:%M\"),\n",
    "                          limits=limits)\n",
    "print(p1)"
   ]
  },
  {
   "cell_type": "code",
   "execution_count": null,
   "metadata": {
    "collapsed": true
   },
   "outputs": [],
   "source": [
    "x_sum.plot(x='year', y='col_name_2', style='o')\n"
   ]
  },
  {
   "cell_type": "code",
   "execution_count": null,
   "metadata": {
    "collapsed": false
   },
   "outputs": [],
   "source": [
    "\n",
    "sampleData['donut_sum'] = sampleData.grouby(['Year','Month'])['donut'].transform(np.sum)"
   ]
  },
  {
   "cell_type": "code",
   "execution_count": null,
   "metadata": {
    "collapsed": true
   },
   "outputs": [],
   "source": [
    "sampleData.to_csv(\"../data/test.csv\",index=False)"
   ]
  },
  {
   "cell_type": "code",
   "execution_count": null,
   "metadata": {
    "collapsed": false
   },
   "outputs": [],
   "source": [
    "data = [{'x': 10, 'y': 20, 'r': 15, 'name': 'circle one'}, \n",
    "        {'x': 40, 'y': 40, 'r': 5, 'name': 'circle two'},\n",
    "        {'x': 20, 'y': 30, 'r': 8, 'name': 'circle three'},\n",
    "        {'x': 25, 'y': 10, 'r': 10, 'name': 'circle four'}]\n",
    "\n",
    "\n",
    "d3_example.plot_circle(data)"
   ]
  },
  {
   "cell_type": "code",
   "execution_count": null,
   "metadata": {
    "collapsed": false
   },
   "outputs": [],
   "source": [
    "d3_example.plot_circle(data, id=2)"
   ]
  },
  {
   "cell_type": "code",
   "execution_count": null,
   "metadata": {
    "collapsed": false
   },
   "outputs": [],
   "source": []
  }
 ],
 "metadata": {
  "kernelspec": {
   "display_name": "Python 2",
   "language": "python",
   "name": "python2"
  },
  "language_info": {
   "codemirror_mode": {
    "name": "ipython",
    "version": 2
   },
   "file_extension": ".py",
   "mimetype": "text/x-python",
   "name": "python",
   "nbconvert_exporter": "python",
   "pygments_lexer": "ipython2",
   "version": "2.7.9"
  }
 },
 "nbformat": 4,
 "nbformat_minor": 0
}
